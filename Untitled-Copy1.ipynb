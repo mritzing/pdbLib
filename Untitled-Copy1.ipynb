{
 "cells": [
  {
   "cell_type": "code",
   "execution_count": null,
   "metadata": {},
   "outputs": [],
   "source": [
    "import pdbParser\n",
    "import glob\n",
    "import pdb\n",
    "import plotly.plotly as py\n",
    "import plotly.graph_objs as go\n",
    "\n",
    "files = glob.glob('*nspose1.pdb')\n",
    "print (files)\n",
    "pdbs = []\n",
    "#read in files \n",
    "for file in files:\n",
    "    pdbs.append(pdbParser.pdbParser(file))"
   ]
  },
  {
   "cell_type": "code",
   "execution_count": null,
   "metadata": {},
   "outputs": [],
   "source": [
    "#3d graph\n",
    "startChain = pdbs[0].getChains()[0]\n",
    "startAtoms = startChain.getAtoms()\n",
    "endChain = pdbs[-1].getChains()[0]\n",
    "endAtoms = endChain.getAtoms()\n",
    "\n",
    "\n",
    "posArray = endChain.getPosArray()\n",
    "xPosEnd = posArray[:,0]\n",
    "yPosEnd = posArray[:,1]\n",
    "zPosEnd = posArray[:,2]\n",
    "\n",
    "posStart = startChain.getPosArray()\n",
    "xPosStart = posStart[:,0]\n",
    "yPosStart = posStart[:,1]\n",
    "zPosStart = posStart[:,2]\n",
    "\n",
    "#Find max distance\n",
    "distList = []\n",
    "for key in startAtoms:\n",
    "    distList.append(startAtoms[key].getDist(endAtoms[key]))\n",
    "print(distList)\n",
    "\n",
    "dX = xPosEnd - xPosStart\n",
    "dY = yPosEnd - yPosStart\n",
    "dZ = zPosEnd - zPosStart\n",
    "\n",
    "\n",
    "trace1 = go.Scatter3d(\n",
    "    x=xPosEnd,\n",
    "    y=yPosEnd,\n",
    "    z=zPosEnd,\n",
    "    mode='markers',\n",
    "    marker=dict(\n",
    "        size=12,\n",
    "        color=distList,                # set color to an array/list of desired values\n",
    "        colorscale='Viridis',   # choose a colorscale\n",
    "        opacity=0.8\n",
    "    )\n",
    ")\n",
    "\n",
    "data = [trace1]\n",
    "layout = go.Layout(\n",
    "    margin=dict(\n",
    "        l=0,\n",
    "        r=0,\n",
    "        b=0,\n",
    "        t=0\n",
    "    )\n",
    ")\n",
    "fig = go.Figure(data=data, layout=layout)\n",
    "py.iplot(fig, filename='3d-scatter-colorscale')\n"
   ]
  },
  {
   "cell_type": "code",
   "execution_count": null,
   "metadata": {},
   "outputs": [],
   "source": []
  }
 ],
 "metadata": {
  "kernelspec": {
   "display_name": "Python 3",
   "language": "python",
   "name": "python3"
  },
  "language_info": {
   "codemirror_mode": {
    "name": "ipython",
    "version": 3
   },
   "file_extension": ".py",
   "mimetype": "text/x-python",
   "name": "python",
   "nbconvert_exporter": "python",
   "pygments_lexer": "ipython3",
   "version": "3.6.5"
  }
 },
 "nbformat": 4,
 "nbformat_minor": 2
}
